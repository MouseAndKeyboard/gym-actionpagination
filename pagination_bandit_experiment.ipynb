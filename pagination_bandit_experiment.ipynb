{
 "cells": [
  {
   "cell_type": "code",
   "execution_count": 2,
   "metadata": {},
   "outputs": [],
   "source": [
    "import gym\n",
    "import numpy as np\n",
    "import pandas as pd\n",
    "import matplotlib.pyplot as plt\n",
    "import seaborn as sns"
   ]
  },
  {
   "cell_type": "code",
   "execution_count": 3,
   "metadata": {},
   "outputs": [],
   "source": [
    "env = gym.make('gym_pagination:pagination-v0', p_dist=[0, 0, 0, 0, 0, 1, 0, 0, 0, 0], r_dist=[1, 1, 1, 1, 1, 1, 1, 1, 1, 1])"
   ]
  },
  {
   "cell_type": "code",
   "execution_count": 4,
   "metadata": {},
   "outputs": [],
   "source": [
    "class random_policy():\n",
    "    def predict(self, observation):\n",
    "        return np.random.randint(0, 6)\n",
    "    \n",
    "    def train(self, action, observation, new_observation, reward, done, info):\n",
    "        pass\n"
   ]
  },
  {
   "cell_type": "code",
   "execution_count": 5,
   "metadata": {},
   "outputs": [],
   "source": [
    "policy = random_policy()\n",
    "\n",
    "rewards = []\n",
    "for episode in range(1000):\n",
    "\n",
    "    obs = env.reset()\n",
    "    total_reward = 0\n",
    "    done = False\n",
    "    while not done:\n",
    "\n",
    "        # pick action\n",
    "        a = policy.predict(obs)\n",
    "\n",
    "        # make action\n",
    "        new_obs, reward, done, info = env.step(a)\n",
    "        total_reward += reward\n",
    "\n",
    "        # update policy (if applicable)\n",
    "        policy.train(a, obs, new_obs, reward, done, info)\n",
    "\n",
    "        obs = new_obs\n",
    "        \n",
    "    rewards.append(total_reward)"
   ]
  },
  {
   "cell_type": "code",
   "execution_count": 6,
   "metadata": {},
   "outputs": [
    {
     "data": {
      "text/plain": [
       "31"
      ]
     },
     "execution_count": 6,
     "metadata": {},
     "output_type": "execute_result"
    },
    {
     "data": {
      "image/png": "[encoded data removed]",
      "text/plain": [
       "<Figure size 432x288 with 1 Axes>"
      ]
     },
     "metadata": {
      "needs_background": "light"
     },
     "output_type": "display_data"
    }
   ],
   "source": [
    "sns.countplot(x=rewards)\n",
    "np.sum(rewards)"
   ]
  },
  {
   "cell_type": "markdown",
   "metadata": {},
   "source": [
    "# Now we will attempt with a reinforcement learning agent"
   ]
  },
  {
   "cell_type": "code",
   "execution_count": 53,
   "metadata": {},
   "outputs": [],
   "source": [
    "import operator\n",
    "class reinforcement_learning_policy():\n",
    "    def __init__(self, lr=0.95, gamma=0.9, exploration=0.05):\n",
    "        self.lr = lr\n",
    "        self.gamma = gamma\n",
    "        self.exploration = exploration\n",
    "        self.qtable = dict()\n",
    "        \n",
    "        self.replay = []\n",
    "        \n",
    "        for i in range(2): # observation space\n",
    "            self.qtable[i] = dict()\n",
    "            for j in range(6): # action space\n",
    "                self.qtable[i][j] = np.random.rand()\n",
    "                \n",
    "    \n",
    "    def predict(self, observation):\n",
    "        \n",
    "        if np.random.rand() < self.exploration:\n",
    "            return np.random.randint(0,6)\n",
    "        \n",
    "        max_a = max(self.qtable[observation].items(), key=operator.itemgetter(1))[0]\n",
    "        # just returning max_a would be a greedy policy\n",
    "              \n",
    "            \n",
    "        return max_a\n",
    "    \n",
    "    def train(self, action, observation, new_observation, reward, done):\n",
    "        if not done:\n",
    "            self.replay.append((observation, action, new_observation, reward))\n",
    "        else:\n",
    "            if (self.qtable[observation][action] < 0.05):\n",
    "                self.qtable[observation][action] = 0\n",
    "            #print('training')\n",
    "            #print(f'{self.lr} * {self.qtable[observation][action]} + {reward} = {self.lr * self.qtable[observation][action] + reward}')            \n",
    "            self.qtable[observation][action] = self.lr * self.qtable[observation][action] + reward\n",
    "            self.replay.append((observation, action, new_observation, reward))\n",
    "\n",
    "            for i in range(len(self.replay) -2 , 0, -1):\n",
    "                obs, act, n_obs, reward = self.replay[i]\n",
    "                _, n_act, _, _ = self.replay[i + 1]\n",
    "                \n",
    "                #print(f'self.qtable[{obs}][{act}] = {self.qtable[obs][act]} * {self.lr} + {reward} + {self.gamma} * {self.qtable[n_obs][n_act]} = {self.qtable[obs][act] * self.lr + reward + self.gamma * self.qtable[n_obs][n_act]}')\n",
    "                self.qtable[obs][act] = self.qtable[obs][act] * self.lr + reward + self.gamma * self.qtable[n_obs][n_act]\n",
    "                \n",
    "        self.replay = []\n"
   ]
  },
  {
   "cell_type": "code",
   "execution_count": 54,
   "metadata": {},
   "outputs": [],
   "source": [
    "policy = reinforcement_learning_policy()\n",
    "\n"
   ]
  },
  {
   "cell_type": "code",
   "execution_count": 55,
   "metadata": {},
   "outputs": [],
   "source": [
    "rewards = []\n",
    "for episode in range(1000):\n",
    "\n",
    "    obs = env.reset()\n",
    "    total_reward = 0\n",
    "    done = False\n",
    "    obs = 0\n",
    "    while not done:\n",
    "\n",
    "        # pick action\n",
    "        a = policy.predict(obs)\n",
    "\n",
    "        # make action\n",
    "        new_obs, reward, done, info = env.step(a)\n",
    "        new_obs = info['page_no']\n",
    "                \n",
    "        total_reward += reward\n",
    "        \n",
    "\n",
    "        # update policy (if applicable)\n",
    "        policy.train(a, obs, new_obs, reward, done)\n",
    "\n",
    "        obs = new_obs\n",
    "        \n",
    "    rewards.append(total_reward)"
   ]
  },
  {
   "cell_type": "code",
   "execution_count": 56,
   "metadata": {},
   "outputs": [
    {
     "data": {
      "text/plain": [
       "912"
      ]
     },
     "execution_count": 56,
     "metadata": {},
     "output_type": "execute_result"
    },
    {
     "data": {
      "image/png": "[encoded data removed]",
      "text/plain": [
       "<Figure size 432x288 with 1 Axes>"
      ]
     },
     "metadata": {
      "needs_background": "light"
     },
     "output_type": "display_data"
    }
   ],
   "source": [
    "sns.countplot(x=rewards)\n",
    "np.sum(rewards)"
   ]
  },
  {
   "cell_type": "code",
   "execution_count": 51,
   "metadata": {},
   "outputs": [
    {
     "name": "stdout",
     "output_type": "stream",
     "text": [
      "42\n"
     ]
    }
   ],
   "source": [
    "fails = 0\n",
    "for i in range(1000):\n",
    "    if policy.predict(1) != 0:\n",
    "        fails += 1\n",
    "print(fails)"
   ]
  },
  {
   "cell_type": "code",
   "execution_count": 35,
   "metadata": {},
   "outputs": [
    {
     "data": {
      "text/plain": [
       "5"
      ]
     },
     "execution_count": 35,
     "metadata": {},
     "output_type": "execute_result"
    }
   ],
   "source": [
    "policy.predict(0)"
   ]
  },
  {
   "cell_type": "code",
   "execution_count": null,
   "metadata": {},
   "outputs": [],
   "source": []
  },
  {
   "cell_type": "code",
   "execution_count": null,
   "metadata": {},
   "outputs": [],
   "source": []
  }
 ],
 "metadata": {
  "kernelspec": {
   "display_name": "Python 3",
   "language": "python",
   "name": "python3"
  },
  "language_info": {
   "codemirror_mode": {
    "name": "ipython",
    "version": 3
   },
   "file_extension": ".py",
   "mimetype": "text/x-python",
   "name": "python",
   "nbconvert_exporter": "python",
   "pygments_lexer": "ipython3",
   "version": "3.7.4"
  }
 },
 "nbformat": 4,
 "nbformat_minor": 4
}
